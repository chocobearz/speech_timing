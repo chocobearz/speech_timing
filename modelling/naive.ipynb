{
 "cells": [
  {
   "cell_type": "code",
   "execution_count": 10,
   "metadata": {},
   "outputs": [],
   "source": [
    "import pandas as pd\n",
    "import numpy as np\n",
    "import os\n",
    "import ast\n",
    "from sklearn.metrics import f1_score"
   ]
  },
  {
   "cell_type": "code",
   "execution_count": 27,
   "metadata": {},
   "outputs": [],
   "source": [
    "data = pd.read_csv(\"C:\\\\Users\\\\ptut0\\\\Documents\\\\speech_timing\\\\basline\\\\data\\\\test\\\\baseline_test.csv\")\n",
    "ssmlTags = ['x-slow', 'slow', 'medium', 'fast', 'x-fast']"
   ]
  },
  {
   "cell_type": "code",
   "execution_count": 28,
   "metadata": {},
   "outputs": [],
   "source": [
    "def most_common(lst):\n",
    "  return max(set(lst), key=lst.count)"
   ]
  },
  {
   "cell_type": "code",
   "execution_count": 9,
   "metadata": {},
   "outputs": [
    {
     "name": "stdout",
     "output_type": "stream",
     "text": [
      "['slow', 'slow', 'slow', 'slow', 'x-slow', 'x-fast', 'slow', 'x-fast', 'x-fast', 'x-fast', 'x-slow', 'x-slow', 'x-fast', 'slow', 'fast', 'slow', 'x-fast', 'fast', 'x-slow', 'fast', 'x-slow', 'x-fast', 'slow', 'x-slow', 'slow', 'x-fast', 'medium', 'medium', 'fast', 'medium', 'fast', 'medium', 'medium', 'fast', 'medium', 'fast', 'fast', 'slow', 'x-fast', 'slow', 'medium', 'medium', 'fast', 'fast', 'slow', 'fast', 'x-fast', 'x-fast', 'medium', 'x-slow', 'fast', 'slow', 'x-fast', 'fast', 'medium', 'fast', 'medium', 'x-fast', 'x-slow', 'x-slow', 'slow', 'x-slow', 'fast', 'x-fast', 'x-slow', 'slow', 'medium', 'slow', 'fast', 'fast', 'fast', 'fast', 'medium', 'medium', 'x-slow', 'slow', 'x-fast', 'x-fast', 'x-slow', 'medium', 'x-fast', 'x-slow', 'slow', 'fast', 'x-fast', 'slow', 'fast', 'x-slow', 'medium', 'x-fast', 'x-fast', 'x-slow', 'fast', 'slow', 'slow', 'slow', 'x-slow', 'fast', 'x-slow', 'x-fast', 'fast', 'x-slow', 'slow', 'x-slow', 'slow', 'fast', 'slow', 'medium', 'fast', 'slow', 'x-fast', 'x-fast', 'medium', 'fast', 'fast', 'fast', 'x-slow', 'slow', 'x-fast', 'x-slow', 'slow', 'slow', 'x-slow', 'x-slow', 'slow', 'x-slow', 'slow', 'x-fast', 'medium', 'fast', 'x-slow', 'x-fast', 'slow', 'x-slow', 'medium', 'medium', 'fast', 'x-slow', 'x-fast', 'fast', 'fast', 'x-fast', 'fast', 'x-slow', 'fast', 'fast', 'x-fast', 'x-fast', 'x-slow', 'x-fast', 'x-fast', 'slow', 'slow', 'fast', 'slow', 'medium', 'slow', 'fast', 'x-fast', 'x-slow', 'slow', 'fast', 'slow', 'fast', 'x-fast', 'medium', 'medium', 'x-slow', 'fast', 'slow', 'x-slow', 'x-fast', 'medium', 'x-fast', 'slow', 'fast', 'x-slow', 'x-fast', 'fast', 'x-slow', 'x-fast', 'x-fast', 'medium', 'slow', 'medium', 'x-fast', 'x-fast', 'medium', 'medium', 'x-slow', 'fast', 'slow', 'medium', 'fast', 'x-slow', 'slow', 'slow', 'x-fast', 'x-fast', 'medium', 'slow', 'slow', 'fast', 'x-slow', 'x-fast', 'fast', 'medium', 'medium', 'x-fast', 'medium', 'fast', 'x-slow', 'fast', 'medium', 'x-fast', 'x-fast', 'x-fast', 'slow', 'slow', 'medium', 'fast', 'slow', 'medium', 'fast', 'fast', 'slow', 'medium', 'x-fast', 'x-fast', 'x-slow', 'fast', 'x-slow', 'fast', 'medium', 'x-slow', 'slow', 'slow', 'medium', 'medium', 'fast', 'fast', 'slow', 'slow', 'x-fast', 'x-fast', 'x-slow', 'fast', 'slow', 'medium', 'slow', 'x-fast', 'x-fast', 'fast', 'medium', 'medium', 'medium', 'x-slow', 'fast', 'medium', 'fast', 'medium', 'medium', 'fast', 'x-fast', 'slow', 'x-slow', 'medium', 'fast', 'x-slow', 'x-fast', 'fast', 'slow', 'x-slow', 'medium', 'fast', 'fast', 'x-slow', 'fast', 'x-fast', 'fast', 'slow', 'fast', 'slow', 'x-slow', 'x-slow', 'x-slow', 'x-slow', 'fast', 'fast', 'fast', 'x-slow', 'slow', 'medium', 'fast', 'x-fast', 'slow', 'medium', 'slow', 'x-slow', 'fast', 'x-fast', 'x-fast', 'x-slow', 'fast', 'x-fast', 'x-fast', 'x-fast', 'x-slow', 'medium', 'fast', 'x-fast', 'x-fast', 'slow', 'fast', 'medium', 'x-slow', 'medium', 'medium', 'x-slow', 'slow', 'x-slow', 'fast', 'x-fast', 'slow', 'x-fast', 'x-slow', 'x-fast', 'x-fast', 'slow', 'x-slow', 'slow', 'x-fast', 'slow', 'x-slow', 'medium', 'fast', 'fast', 'medium', 'x-slow', 'slow', 'x-slow', 'x-fast', 'slow', 'x-fast', 'x-fast', 'x-fast', 'x-slow', 'x-slow', 'fast', 'x-slow', 'slow', 'x-slow', 'x-slow', 'x-fast', 'slow', 'fast', 'slow', 'slow', 'slow', 'fast', 'medium', 'medium', 'medium', 'x-slow', 'x-fast']\n"
     ]
    }
   ],
   "source": [
    "ssmlTags = ['x-slow', 'slow', 'medium', 'fast', 'x-fast']\n",
    "random = np.random.choice(ssmlTags, 365).tolist()\n",
    "print(random)"
   ]
  },
  {
   "cell_type": "code",
   "execution_count": 29,
   "metadata": {},
   "outputs": [],
   "source": [
    "random = []\n",
    "common = []\n",
    "filename  = []\n",
    "for index, row in data.iterrows():\n",
    "  discreteLengths = ast.literal_eval(row['discrete_lengths'])\n",
    "  filename.append(row['filename'])\n",
    "  random.append(np.random.choice(ssmlTags, len(discreteLengths)).tolist())\n",
    "  mostCommon = most_common(discreteLengths)\n",
    "  common.append([mostCommon] * len(discreteLengths))\n",
    "#dataframe = pd.DataFrame({'filename' : filename, 'random_lengths' : random, 'most_common_lengths' : common})\n",
    "#dataframe.to_csv(\"naive_TED.csv\", mode='a', header=not os.path.exists(\"naive_TED.csv\"))\n",
    "\n"
   ]
  },
  {
   "cell_type": "code",
   "execution_count": 30,
   "metadata": {},
   "outputs": [],
   "source": [
    "results = pd.read_csv(\"C:\\\\Users\\\\ptut0\\\\Documents\\\\speech_timing\\\\basline\\\\data\\\\test\\\\baseline_test.csv\")"
   ]
  },
  {
   "cell_type": "code",
   "execution_count": 32,
   "metadata": {},
   "outputs": [
    {
     "name": "stdout",
     "output_type": "stream",
     "text": [
      "The random accuracy is : 0.21414487119465772, the most common accuracy is : 0.22562630506135703, The random f1 is : 0.2136625662089741, the most common f1 is : 0.08321321087753016 \n"
     ]
    }
   ],
   "source": [
    "from sklearn.metrics import accuracy_score\n",
    "\n",
    "random_acc = 0\n",
    "common_acc = 0\n",
    "random_f1 = 0\n",
    "common_f1 = 0\n",
    "for index, row in results.iterrows():\n",
    "  ground_truth = ast.literal_eval(row['discrete_lengths'])\n",
    "  random_acc += accuracy_score(ground_truth, random[index])\n",
    "  common_acc += accuracy_score(ground_truth, common[index])\n",
    "  random_f1 += f1_score(ground_truth, random[index], average='weighted')\n",
    "  common_f1 += f1_score(ground_truth, common[index], average='weighted')\n",
    "print(f\"The random accuracy is : {random_acc/len(results['discrete_lengths'])}, the most common accuracy is : {common_acc/len(results['discrete_lengths'])}, The random f1 is : {random_f1/len(results['discrete_lengths'])}, the most common f1 is : {common_f1/len(results['discrete_lengths'])} \")"
   ]
  }
 ],
 "metadata": {
  "kernelspec": {
   "display_name": "venv",
   "language": "python",
   "name": "python3"
  },
  "language_info": {
   "codemirror_mode": {
    "name": "ipython",
    "version": 3
   },
   "file_extension": ".py",
   "mimetype": "text/x-python",
   "name": "python",
   "nbconvert_exporter": "python",
   "pygments_lexer": "ipython3",
   "version": "3.10.5"
  },
  "orig_nbformat": 4
 },
 "nbformat": 4,
 "nbformat_minor": 2
}
